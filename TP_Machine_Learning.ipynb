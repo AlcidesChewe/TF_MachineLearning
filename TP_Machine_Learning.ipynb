{
  "nbformat": 4,
  "nbformat_minor": 0,
  "metadata": {
    "colab": {
      "provenance": [],
      "authorship_tag": "ABX9TyONI0vPB6S/F6uDMKHtci+Q",
      "include_colab_link": true
    },
    "kernelspec": {
      "name": "python3",
      "display_name": "Python 3"
    },
    "language_info": {
      "name": "python"
    }
  },
  "cells": [
    {
      "cell_type": "markdown",
      "metadata": {
        "id": "view-in-github",
        "colab_type": "text"
      },
      "source": [
        "<a href=\"https://colab.research.google.com/github/AlcidesChewe/TP_MachineLearning/blob/main/TP_Machine_Learning.ipynb\" target=\"_parent\"><img src=\"https://colab.research.google.com/assets/colab-badge.svg\" alt=\"Open In Colab\"/></a>"
      ]
    },
    {
      "cell_type": "code",
      "execution_count": null,
      "metadata": {
        "colab": {
          "base_uri": "https://localhost:8080/"
        },
        "id": "9_HwksBtFtoy",
        "outputId": "e18333d5-c920-4ba7-adfb-6c700a49e42f"
      },
      "outputs": [
        {
          "output_type": "stream",
          "name": "stdout",
          "text": [
            "Collecting numpy-stl\n",
            "  Downloading numpy_stl-3.0.1-py3-none-any.whl (19 kB)\n",
            "Requirement already satisfied: numpy in /usr/local/lib/python3.10/dist-packages (from numpy-stl) (1.23.5)\n",
            "Requirement already satisfied: python-utils>=3.4.5 in /usr/local/lib/python3.10/dist-packages (from numpy-stl) (3.8.1)\n",
            "Requirement already satisfied: typing-extensions>3.10.0.2 in /usr/local/lib/python3.10/dist-packages (from python-utils>=3.4.5->numpy-stl) (4.5.0)\n",
            "Installing collected packages: numpy-stl\n",
            "Successfully installed numpy-stl-3.0.1\n"
          ]
        }
      ],
      "source": [
        "pip install numpy-stl"
      ]
    },
    {
      "cell_type": "markdown",
      "source": [
        "# **Simulacion de rotura**"
      ],
      "metadata": {
        "id": "p3O0aAfZNcbT"
      }
    },
    {
      "cell_type": "code",
      "source": [
        "import numpy as np\n",
        "from stl import mesh\n",
        "\n",
        "# Load the mesh using numpy-stl\n",
        "your_mesh = mesh.Mesh.from_file('beker1.stl')\n",
        "\n",
        "# Determine the z-coordinates of all vertices\n",
        "z_coords = your_mesh.vectors[:,:,2]\n",
        "\n",
        "# Find the median z-coordinate to split the taza approximately in half\n",
        "median_z = np.median(z_coords)\n",
        "\n",
        "# Remove triangles whose three vertices are below the median z-coordinate\n",
        "mask = np.all(z_coords < median_z, axis=1)\n",
        "your_mesh.vectors[mask] = np.zeros((3, 3))\n",
        "\n",
        "# Save the modified mesh to a new file\n",
        "your_mesh.save('beker1_roto.stl')\n",
        "\n"
      ],
      "metadata": {
        "id": "ZnVckLOwIDoN"
      },
      "execution_count": 10,
      "outputs": []
    },
    {
      "cell_type": "markdown",
      "source": [
        "# **Parte rota**\n"
      ],
      "metadata": {
        "id": "zTCpB_4vNi3D"
      }
    },
    {
      "cell_type": "code",
      "source": [
        "import numpy as np\n",
        "from stl import mesh\n",
        "\n",
        "# Load the mesh using numpy-stl\n",
        "your_mesh = mesh.Mesh.from_file('beker1.stl')\n",
        "\n",
        "# Determine the z-coordinates of all vertices\n",
        "z_coords = your_mesh.vectors[:,:,2]\n",
        "\n",
        "# Find the median z-coordinate to split the taza approximately in half\n",
        "median_z = np.median(z_coords)\n",
        "\n",
        "# Remove triangles whose three vertices are above the median z-coordinate\n",
        "mask = np.all(z_coords > median_z, axis=1)\n",
        "your_mesh.vectors[mask] = np.zeros((3, 3))\n",
        "\n",
        "# Save the modified mesh to a new file\n",
        "your_mesh.save('beker1_parte_superior.stl')\n"
      ],
      "metadata": {
        "id": "dLA6lsLnNYbk"
      },
      "execution_count": 11,
      "outputs": []
    }
  ]
}