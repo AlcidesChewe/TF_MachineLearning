{
  "nbformat": 4,
  "nbformat_minor": 0,
  "metadata": {
    "colab": {
      "provenance": [],
      "authorship_tag": "ABX9TyMQYl1hCLwjjhhOgAjentLp",
      "include_colab_link": true
    },
    "kernelspec": {
      "name": "python3",
      "display_name": "Python 3"
    },
    "language_info": {
      "name": "python"
    }
  },
  "cells": [
    {
      "cell_type": "markdown",
      "metadata": {
        "id": "view-in-github",
        "colab_type": "text"
      },
      "source": [
        "<a href=\"https://colab.research.google.com/github/AlcidesChewe/TP_MachineLearning/blob/main/TP_Machine_Learning.ipynb\" target=\"_parent\"><img src=\"https://colab.research.google.com/assets/colab-badge.svg\" alt=\"Open In Colab\"/></a>"
      ]
    },
    {
      "cell_type": "code",
      "execution_count": 7,
      "metadata": {
        "colab": {
          "base_uri": "https://localhost:8080/"
        },
        "id": "9_HwksBtFtoy",
        "outputId": "60a2e2fe-bcbf-4aa8-adaa-642fcfbdba7a"
      },
      "outputs": [
        {
          "output_type": "stream",
          "name": "stdout",
          "text": [
            "Requirement already satisfied: numpy-stl in /usr/local/lib/python3.10/dist-packages (3.0.1)\n",
            "Requirement already satisfied: numpy in /usr/local/lib/python3.10/dist-packages (from numpy-stl) (1.23.5)\n",
            "Requirement already satisfied: python-utils>=3.4.5 in /usr/local/lib/python3.10/dist-packages (from numpy-stl) (3.8.1)\n",
            "Requirement already satisfied: typing-extensions>3.10.0.2 in /usr/local/lib/python3.10/dist-packages (from python-utils>=3.4.5->numpy-stl) (4.5.0)\n"
          ]
        }
      ],
      "source": [
        "pip install numpy-stl"
      ]
    },
    {
      "cell_type": "code",
      "source": [
        "!git clone https://github.com/dimatura/binvox-rw-py.git"
      ],
      "metadata": {
        "colab": {
          "base_uri": "https://localhost:8080/"
        },
        "id": "JdJxBPG_yRqz",
        "outputId": "81b12c90-f0ea-495c-862d-a69d21ab2d26"
      },
      "execution_count": 13,
      "outputs": [
        {
          "output_type": "stream",
          "name": "stdout",
          "text": [
            "Cloning into 'binvox-rw-py'...\n",
            "remote: Enumerating objects: 66, done.\u001b[K\n",
            "remote: Total 66 (delta 0), reused 0 (delta 0), pack-reused 66\u001b[K\n",
            "Receiving objects: 100% (66/66), 76.84 KiB | 624.00 KiB/s, done.\n",
            "Resolving deltas: 100% (33/33), done.\n"
          ]
        }
      ]
    },
    {
      "cell_type": "code",
      "source": [
        "!pip install trimesh[all]"
      ],
      "metadata": {
        "colab": {
          "base_uri": "https://localhost:8080/"
        },
        "id": "R5fQDzDu0T3c",
        "outputId": "b4675afc-6f28-4dfb-cbe4-d117f7e0ca77"
      },
      "execution_count": 18,
      "outputs": [
        {
          "output_type": "stream",
          "name": "stdout",
          "text": [
            "Collecting trimesh[all]\n",
            "  Downloading trimesh-3.23.5-py3-none-any.whl (685 kB)\n",
            "\u001b[2K     \u001b[90m━━━━━━━━━━━━━━━━━━━━━━━━━━━━━━━━━━━━━━━\u001b[0m \u001b[32m685.4/685.4 kB\u001b[0m \u001b[31m7.4 MB/s\u001b[0m eta \u001b[36m0:00:00\u001b[0m\n",
            "\u001b[?25hRequirement already satisfied: numpy in /usr/local/lib/python3.10/dist-packages (from trimesh[all]) (1.23.5)\n",
            "Collecting python-fcl (from trimesh[all])\n",
            "  Downloading python_fcl-0.7.0.5-cp310-cp310-manylinux_2_17_x86_64.manylinux2014_x86_64.whl (4.3 MB)\n",
            "\u001b[2K     \u001b[90m━━━━━━━━━━━━━━━━━━━━━━━━━━━━━━━━━━━━━━━━\u001b[0m \u001b[32m4.3/4.3 MB\u001b[0m \u001b[31m20.3 MB/s\u001b[0m eta \u001b[36m0:00:00\u001b[0m\n",
            "\u001b[?25hRequirement already satisfied: chardet in /usr/local/lib/python3.10/dist-packages (from trimesh[all]) (5.2.0)\n",
            "Requirement already satisfied: scikit-image in /usr/local/lib/python3.10/dist-packages (from trimesh[all]) (0.19.3)\n",
            "Requirement already satisfied: jsonschema in /usr/local/lib/python3.10/dist-packages (from trimesh[all]) (4.19.1)\n",
            "Collecting pycollada (from trimesh[all])\n",
            "  Downloading pycollada-0.7.2.tar.gz (107 kB)\n",
            "\u001b[2K     \u001b[90m━━━━━━━━━━━━━━━━━━━━━━━━━━━━━━━━━━━━━━━\u001b[0m \u001b[32m107.6/107.6 kB\u001b[0m \u001b[31m8.3 MB/s\u001b[0m eta \u001b[36m0:00:00\u001b[0m\n",
            "\u001b[?25h  Preparing metadata (setup.py) ... \u001b[?25l\u001b[?25hdone\n",
            "Requirement already satisfied: setuptools in /usr/local/lib/python3.10/dist-packages (from trimesh[all]) (67.7.2)\n",
            "Collecting svg.path (from trimesh[all])\n",
            "  Downloading svg.path-6.3-py2.py3-none-any.whl (16 kB)\n",
            "Requirement already satisfied: networkx in /usr/local/lib/python3.10/dist-packages (from trimesh[all]) (3.1)\n",
            "Requirement already satisfied: shapely in /usr/local/lib/python3.10/dist-packages (from trimesh[all]) (2.0.1)\n",
            "Collecting mapbox-earcut (from trimesh[all])\n",
            "  Downloading mapbox_earcut-1.0.1-cp310-cp310-manylinux_2_17_x86_64.manylinux2014_x86_64.whl (104 kB)\n",
            "\u001b[2K     \u001b[90m━━━━━━━━━━━━━━━━━━━━━━━━━━━━━━━━━━━━━━\u001b[0m \u001b[32m104.9/104.9 kB\u001b[0m \u001b[31m10.8 MB/s\u001b[0m eta \u001b[36m0:00:00\u001b[0m\n",
            "\u001b[?25hRequirement already satisfied: pillow in /usr/local/lib/python3.10/dist-packages (from trimesh[all]) (9.4.0)\n",
            "Collecting embreex (from trimesh[all])\n",
            "  Downloading embreex-2.17.7.post3-cp310-cp310-manylinux_2_28_x86_64.whl (17.0 MB)\n",
            "\u001b[2K     \u001b[90m━━━━━━━━━━━━━━━━━━━━━━━━━━━━━━━━━━━━━━━━\u001b[0m \u001b[32m17.0/17.0 MB\u001b[0m \u001b[31m32.7 MB/s\u001b[0m eta \u001b[36m0:00:00\u001b[0m\n",
            "\u001b[?25hRequirement already satisfied: scipy in /usr/local/lib/python3.10/dist-packages (from trimesh[all]) (1.11.3)\n",
            "Requirement already satisfied: requests in /usr/local/lib/python3.10/dist-packages (from trimesh[all]) (2.31.0)\n",
            "Collecting xxhash (from trimesh[all])\n",
            "  Downloading xxhash-3.4.1-cp310-cp310-manylinux_2_17_x86_64.manylinux2014_x86_64.whl (194 kB)\n",
            "\u001b[2K     \u001b[90m━━━━━━━━━━━━━━━━━━━━━━━━━━━━━━━━━━━━━━\u001b[0m \u001b[32m194.1/194.1 kB\u001b[0m \u001b[31m20.3 MB/s\u001b[0m eta \u001b[36m0:00:00\u001b[0m\n",
            "\u001b[?25hCollecting pyglet<2 (from trimesh[all])\n",
            "  Downloading pyglet-1.5.27-py3-none-any.whl (1.1 MB)\n",
            "\u001b[2K     \u001b[90m━━━━━━━━━━━━━━━━━━━━━━━━━━━━━━━━━━━━━━━━\u001b[0m \u001b[32m1.1/1.1 MB\u001b[0m \u001b[31m38.2 MB/s\u001b[0m eta \u001b[36m0:00:00\u001b[0m\n",
            "\u001b[?25hRequirement already satisfied: lxml in /usr/local/lib/python3.10/dist-packages (from trimesh[all]) (4.9.3)\n",
            "Requirement already satisfied: psutil in /usr/local/lib/python3.10/dist-packages (from trimesh[all]) (5.9.5)\n",
            "Collecting xatlas (from trimesh[all])\n",
            "  Downloading xatlas-0.0.8-cp310-cp310-manylinux_2_17_x86_64.manylinux2014_x86_64.whl (229 kB)\n",
            "\u001b[2K     \u001b[90m━━━━━━━━━━━━━━━━━━━━━━━━━━━━━━━━━━━━━━\u001b[0m \u001b[32m229.4/229.4 kB\u001b[0m \u001b[31m18.3 MB/s\u001b[0m eta \u001b[36m0:00:00\u001b[0m\n",
            "\u001b[?25hCollecting rtree (from trimesh[all])\n",
            "  Downloading Rtree-1.0.1-cp310-cp310-manylinux_2_17_x86_64.manylinux2014_x86_64.whl (1.0 MB)\n",
            "\u001b[2K     \u001b[90m━━━━━━━━━━━━━━━━━━━━━━━━━━━━━━━━━━━━━━━━\u001b[0m \u001b[32m1.0/1.0 MB\u001b[0m \u001b[31m44.2 MB/s\u001b[0m eta \u001b[36m0:00:00\u001b[0m\n",
            "\u001b[?25hCollecting colorlog (from trimesh[all])\n",
            "  Downloading colorlog-6.7.0-py2.py3-none-any.whl (11 kB)\n",
            "Requirement already satisfied: attrs>=22.2.0 in /usr/local/lib/python3.10/dist-packages (from jsonschema->trimesh[all]) (23.1.0)\n",
            "Requirement already satisfied: jsonschema-specifications>=2023.03.6 in /usr/local/lib/python3.10/dist-packages (from jsonschema->trimesh[all]) (2023.7.1)\n",
            "Requirement already satisfied: referencing>=0.28.4 in /usr/local/lib/python3.10/dist-packages (from jsonschema->trimesh[all]) (0.30.2)\n",
            "Requirement already satisfied: rpds-py>=0.7.1 in /usr/local/lib/python3.10/dist-packages (from jsonschema->trimesh[all]) (0.10.3)\n",
            "Requirement already satisfied: python-dateutil>=2.2 in /usr/local/lib/python3.10/dist-packages (from pycollada->trimesh[all]) (2.8.2)\n",
            "Requirement already satisfied: Cython in /usr/local/lib/python3.10/dist-packages (from python-fcl->trimesh[all]) (3.0.2)\n",
            "Requirement already satisfied: charset-normalizer<4,>=2 in /usr/local/lib/python3.10/dist-packages (from requests->trimesh[all]) (3.3.0)\n",
            "Requirement already satisfied: idna<4,>=2.5 in /usr/local/lib/python3.10/dist-packages (from requests->trimesh[all]) (3.4)\n",
            "Requirement already satisfied: urllib3<3,>=1.21.1 in /usr/local/lib/python3.10/dist-packages (from requests->trimesh[all]) (2.0.6)\n",
            "Requirement already satisfied: certifi>=2017.4.17 in /usr/local/lib/python3.10/dist-packages (from requests->trimesh[all]) (2023.7.22)\n",
            "Requirement already satisfied: imageio>=2.4.1 in /usr/local/lib/python3.10/dist-packages (from scikit-image->trimesh[all]) (2.31.5)\n",
            "Requirement already satisfied: tifffile>=2019.7.26 in /usr/local/lib/python3.10/dist-packages (from scikit-image->trimesh[all]) (2023.9.26)\n",
            "Requirement already satisfied: PyWavelets>=1.1.1 in /usr/local/lib/python3.10/dist-packages (from scikit-image->trimesh[all]) (1.4.1)\n",
            "Requirement already satisfied: packaging>=20.0 in /usr/local/lib/python3.10/dist-packages (from scikit-image->trimesh[all]) (23.2)\n",
            "Requirement already satisfied: six>=1.5 in /usr/local/lib/python3.10/dist-packages (from python-dateutil>=2.2->pycollada->trimesh[all]) (1.16.0)\n",
            "Building wheels for collected packages: pycollada\n",
            "  Building wheel for pycollada (setup.py) ... \u001b[?25l\u001b[?25hdone\n",
            "  Created wheel for pycollada: filename=pycollada-0.7.2-py3-none-any.whl size=127016 sha256=6795ba187a4e7d9ae835ec3c05b9155829c909364f7a569c8b4e374e4ba7b7c1\n",
            "  Stored in directory: /root/.cache/pip/wheels/d5/ba/33/1e99a7e7defd1d77f0210e7a39ff58de2a2d8d4c22466bb2da\n",
            "Successfully built pycollada\n",
            "Installing collected packages: xatlas, pyglet, xxhash, trimesh, svg.path, rtree, python-fcl, mapbox-earcut, embreex, colorlog, pycollada\n",
            "Successfully installed colorlog-6.7.0 embreex-2.17.7.post3 mapbox-earcut-1.0.1 pycollada-0.7.2 pyglet-1.5.27 python-fcl-0.7.0.5 rtree-1.0.1 svg.path-6.3 trimesh-3.23.5 xatlas-0.0.8 xxhash-3.4.1\n"
          ]
        }
      ]
    },
    {
      "cell_type": "code",
      "source": [
        "import sys\n",
        "sys.path.append('/content/binvox-rw-py')"
      ],
      "metadata": {
        "id": "B21iwolbznfC"
      },
      "execution_count": 14,
      "outputs": []
    },
    {
      "cell_type": "code",
      "source": [
        "import numpy as np\n",
        "from stl import mesh\n",
        "import numpy as np\n",
        "import trimesh\n",
        "import binvox_rw"
      ],
      "metadata": {
        "id": "Fcj26In5vMYT"
      },
      "execution_count": 22,
      "outputs": []
    },
    {
      "cell_type": "markdown",
      "source": [
        "# **Descripción de los Datos de Entrada**\n"
      ],
      "metadata": {
        "id": "pA4_Kn9O6aPC"
      }
    },
    {
      "cell_type": "code",
      "source": [
        "# Cargar el modelo 3D de la taza\n",
        "your_mesh = mesh.Mesh.from_file('beker1.stl')\n",
        "\n",
        "# Obtener las dimensiones máximas y mínimas en cada eje\n",
        "min_x, min_y, min_z = your_mesh.min_[:]\n",
        "max_x, max_y, max_z = your_mesh.max_[:]\n",
        "\n",
        "# Calcular las dimensiones aproximadas\n",
        "width = max_x - min_x\n",
        "height = max_z - min_z\n",
        "depth = max_y - min_y\n",
        "\n",
        "print(f\"Dimensiones Aproximadas de la Taza:\")\n",
        "print(f\"Ancho (X): {width} unidades\")\n",
        "print(f\"Alto (Z): {height} unidades\")\n",
        "print(f\"Profundidad (Y): {depth} unidades\")\n"
      ],
      "metadata": {
        "colab": {
          "base_uri": "https://localhost:8080/"
        },
        "id": "9kjf3q_quo10",
        "outputId": "a7e05aa2-4831-471e-8a50-9c075d12e9d5"
      },
      "execution_count": 5,
      "outputs": [
        {
          "output_type": "stream",
          "name": "stdout",
          "text": [
            "Dimensiones Aproximadas de la Taza:\n",
            "Ancho (X): 46.16403579711914 unidades\n",
            "Alto (Z): 45.0 unidades\n",
            "Profundidad (Y): 46.15821838378906 unidades\n"
          ]
        }
      ]
    },
    {
      "cell_type": "markdown",
      "source": [
        "# **Normalizacion, Almacenamiento y convercion a voxels**"
      ],
      "metadata": {
        "id": "L-ELQ7-W7Odx"
      }
    },
    {
      "cell_type": "code",
      "source": [
        "# 1. Lectura del archivo STL\n",
        "your_mesh = mesh.Mesh.from_file('beker1.stl')\n",
        "\n",
        "# 2. Normalización\n",
        "max_dimensions = np.max(your_mesh.vectors, axis=0) - np.min(your_mesh.vectors, axis=0)\n",
        "scale_factor = 50 / max_dimensions  # Escalar a 50 unidades\n",
        "your_mesh.vectors *= scale_factor\n",
        "\n",
        "# 3. Almacenamiento\n",
        "your_mesh.save('beker1_normalized.stl')"
      ],
      "metadata": {
        "id": "hXpx95z-xCub"
      },
      "execution_count": 16,
      "outputs": []
    },
    {
      "cell_type": "code",
      "source": [
        "# Cargar el archivo STL\n",
        "mesh = trimesh.load_mesh('beker1_normalized.stl')\n",
        "\n",
        "# Convertir a voxels\n",
        "voxel_grid = mesh.voxelized(pitch=0.5)\n",
        "\n",
        "# Visualizar el resultado (opcional)\n",
        "voxel_grid.show()\n",
        "\n",
        "with open('beker1_normalized.binvox', 'wb') as f:\n",
        "    voxel_grid.export(f, file_type='binvox')"
      ],
      "metadata": {
        "id": "kixYYZDHyEer"
      },
      "execution_count": 20,
      "outputs": []
    },
    {
      "cell_type": "markdown",
      "source": [
        "# **Transformación de Datos para Modelos 3D**"
      ],
      "metadata": {
        "id": "_CCSLTRP7A8f"
      }
    },
    {
      "cell_type": "code",
      "source": [
        "from stl import mesh as stl_mesh\n",
        "# 1. Lectura del archivo STL normalizado\n",
        "your_mesh = stl_mesh.Mesh.from_file('beker1_normalized.stl')\n",
        "\n",
        "# 2. Conversión a Voxels (Asumiendo que ya tienes el archivo 'beker1_normalized.binvox')\n",
        "with open('beker1_normalized.binvox', 'rb') as f:\n",
        "    model = binvox_rw.read_as_3d_array(f)\n",
        "\n",
        "# 3. Reducción de Dimensionalidad\n",
        "downsampled_voxels = model.data[::2, ::2, ::2]\n",
        "\n",
        "# 4. Normalización\n",
        "normalized_voxels = downsampled_voxels.astype(np.float32)"
      ],
      "metadata": {
        "id": "CcTP6WRWyXqK"
      },
      "execution_count": 25,
      "outputs": []
    },
    {
      "cell_type": "markdown",
      "source": [
        "# **Preparación y Almacenamiento de Datos**"
      ],
      "metadata": {
        "id": "tf53KzBc7KzY"
      }
    },
    {
      "cell_type": "markdown",
      "source": [
        "# **Simulacion de rotura**"
      ],
      "metadata": {
        "id": "p3O0aAfZNcbT"
      }
    },
    {
      "cell_type": "code",
      "source": [
        "# Load the mesh using numpy-stl\n",
        "your_mesh = stl_mesh.Mesh.from_file('beker1_normalized.binvox')\n",
        "\n",
        "# Determine the z-coordinates of all vertices\n",
        "z_coords = your_mesh.vectors[:,:,2]\n",
        "\n",
        "# Find the median z-coordinate to split the taza approximately in half\n",
        "median_z = np.median(z_coords)\n",
        "\n",
        "# Remove triangles whose three vertices are below the median z-coordinate\n",
        "mask = np.all(z_coords < median_z, axis=1)\n",
        "your_mesh.vectors[mask] = np.zeros((3, 3))\n",
        "\n",
        "# Save the modified mesh to a new file\n",
        "your_mesh.save('beker1_normalized_roto.binvox')"
      ],
      "metadata": {
        "id": "ZnVckLOwIDoN"
      },
      "execution_count": 28,
      "outputs": []
    },
    {
      "cell_type": "markdown",
      "source": [
        "# **Parte rota**\n"
      ],
      "metadata": {
        "id": "zTCpB_4vNi3D"
      }
    },
    {
      "cell_type": "code",
      "source": [
        "# Load the mesh using numpy-stl\n",
        "your_mesh = stl_mesh.Mesh.from_file('beker1_normalized.binvox')\n",
        "\n",
        "# Determine the z-coordinates of all vertices\n",
        "z_coords = your_mesh.vectors[:,:,2]\n",
        "\n",
        "# Find the median z-coordinate to split the taza approximately in half\n",
        "median_z = np.median(z_coords)\n",
        "\n",
        "# Remove triangles whose three vertices are above the median z-coordinate\n",
        "mask = np.all(z_coords > median_z, axis=1)\n",
        "your_mesh.vectors[mask] = np.zeros((3, 3))\n",
        "\n",
        "# Save the modified mesh to a new file\n",
        "your_mesh.save('beker1_normalized_parte_superior.binvox')\n"
      ],
      "metadata": {
        "id": "dLA6lsLnNYbk"
      },
      "execution_count": 29,
      "outputs": []
    }
  ]
}